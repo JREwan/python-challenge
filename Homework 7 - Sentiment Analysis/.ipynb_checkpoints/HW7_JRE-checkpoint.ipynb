{
 "cells": [
  {
   "cell_type": "code",
   "execution_count": 1,
   "metadata": {
    "collapsed": true
   },
   "outputs": [],
   "source": [
    "# Unit 7 Assignment - Distinguishing Sentiments\n",
    "\n",
    "# Background\n",
    "#  Twitter has become a wildly sprawling jungle of information—140 characters at a time.\n",
    "#  Somewhere between 350 million and 500 million tweets are estimated to be sent out per day. \n",
    "#  With such an explosion of data, on Twitter and elsewhere, it becomes more important than ever to tame it in some way, to concisely capture the essence of the data.\n",
    "\n",
    "#News Mood\n",
    "#  In this assignment, you'll create a Python script to perform a sentiment analysis of the Twitter activity of various news oulets, and to present your findings visually.\n",
    "#  Your final output should provide a visualized summary of the sentiments expressed in Tweets sent out by the following news organizations: BBC, CBS, CNN, Fox, and New York times.\n",
    "\n",
    "# The tools of the trade you will need for your task as a data analyst include the following: tweepy, pandas, matplotlib, seaborn, textblob, and VADER.\n",
    "# Your final Jupyter notebook must:\n",
    "  # Pull last 100 tweets from each outlet.\n",
    "  # Perform a sentiment analysis with the compound, positive, neutral, and negative scoring for each tweet.\n",
    "  # Pull into a DataFrame the tweet's source acount, its text, its date, and its compound, positive, neutral, and negative sentiment scores.\n",
    "  # Export the data in the DataFrame into a CSV file.\n",
    "  # Save PNG images for each plot.\n",
    "# As final considerations:\n",
    "  # Use the Matplotlib and Seaborn libraries.\n",
    "  # Include a written description of three observable trends based on the data.\n",
    "  # Include proper labeling of your plots, including plot titles (with date of analysis) and axes labels.\n",
    "  # Include an exported markdown version of your Notebook called README.md in your GitHub repository.\n"
   ]
  },
  {
   "cell_type": "code",
   "execution_count": 2,
   "metadata": {
    "collapsed": true
   },
   "outputs": [],
   "source": [
    "# Dependencies\n",
    "import datetime as dt\n",
    "import tweepy\n",
    "import json\n",
    "import numpy as np\n",
    "import pandas as pd\n",
    "import matplotlib.pyplot as plt\n",
    "%matplotlib inline\n",
    "#from TwitterAPITweepy.py import api_key\n",
    "\n",
    "# Import and Initialize Sentiment Analyzer\n",
    "from vaderSentiment.vaderSentiment import SentimentIntensityAnalyzer\n",
    "analyzer = SentimentIntensityAnalyzer()\n",
    "\n",
    "# Twitter API Keys\n",
    "consumer_key = \"UaKEoCWpFbVOO1Uu77ZSSkpRM\"\n",
    "consumer_secret = \"ymBfsXofQKWLY9yJtqe0Z68aBWCmC6MMAVy5Qapo3bc0ouNBzN\"\n",
    "access_token = \"260941832-ZCib10zlZD0FzdUod7bLRpMyagraoHNlsEal8y7h\"\n",
    "access_token_secret = \"8FO8KkfC6oSP8x8N0YNTMj5KnCAWnx6U4G0AzZz4QbHhb\"\n",
    "\n",
    "# Setup Tweepy API Authentication\n",
    "auth = tweepy.OAuthHandler(consumer_key, consumer_secret)\n",
    "auth.set_access_token(access_token, access_token_secret)\n",
    "#api = tweepy.API(auth, parser=tweepy.parsers.JSONParser())\n",
    "api = tweepy.API(auth)\n"
   ]
  },
  {
   "cell_type": "code",
   "execution_count": 3,
   "metadata": {},
   "outputs": [
    {
     "name": "stdout",
     "output_type": "stream",
     "text": [
      "@CNN\n",
      "@BBCNews\n",
      "@CBSNews\n",
      "@FoxNews\n",
      "@nytimes\n"
     ]
    }
   ],
   "source": [
    "#  Pull Twitter data\n",
    "PageLoops = 100\n",
    "# Target User Accounts\n",
    "target_user = ('@CNN', '@BBCNews', '@CBSNews', '@FoxNews', '@nytimes')\n",
    "\n",
    "# lists for holding sentiments\n",
    "user_list = []\n",
    "compound_list = []\n",
    "positive_list = []\n",
    "negative_list = []\n",
    "neutral_list = []\n",
    "tweets_ago = []\n",
    "\n",
    "\n",
    "# Loop through each user\n",
    "for user in target_user:\n",
    "\n",
    "    current_user = user\n",
    "    tweet_counter = 0\n",
    "    print(current_user)\n",
    "    # Loop through PageLoops pages of tweets (total 500 tweets)\n",
    "    for page in tweepy.Cursor(api.user_timeline, id=user).pages(PageLoops):\n",
    "\n",
    "        # Get all tweets from home feed\n",
    "        #public_tweets = api.user_timeline(user)\n",
    "        page = page[0]\n",
    "        tweet = json.dumps(page._json, indent=3)\n",
    "        tweet = json.loads(tweet)\n",
    "        text = tweet['text']\n",
    "\n",
    "        # Run Vader Analysis on each tweet\n",
    "        compound = analyzer.polarity_scores(text)[\"compound\"]\n",
    "        pos = analyzer.polarity_scores(text)[\"pos\"]\n",
    "        neu = analyzer.polarity_scores(text)[\"neu\"]\n",
    "        neg = analyzer.polarity_scores(text)[\"neg\"]\n",
    "\n",
    "        # Add each value to the appropriate array\n",
    "        user_list.append(current_user) \n",
    "        compound_list.append(compound)\n",
    "        positive_list.append(pos)\n",
    "        negative_list.append(neg)\n",
    "        neutral_list.append(neu)\n",
    "        tweets_ago.append(tweet_counter)\n",
    "        tweet_counter = tweet_counter + 1\n"
   ]
  },
  {
   "cell_type": "code",
   "execution_count": 4,
   "metadata": {
    "collapsed": true
   },
   "outputs": [],
   "source": [
    "# create a data frame for the target, compound, pos, neu, and negative scores\n",
    "Tweet_dict = {'News Source': user_list,\n",
    "              'Compound Score': compound_list,\n",
    "              'Positive Score': positive_list,\n",
    "              'Neutral Score': neutral_list,\n",
    "              'Negative Score': negative_list,\n",
    "              'Tweets Ago': tweets_ago\n",
    "              }\n",
    "\n",
    "# Create a dataframe for the results\n",
    "TweetResults_df = pd.DataFrame(Tweet_dict)\n",
    "TweetResults_df.head(11)\n",
    "# Write the dataframe to a .csv\n",
    "file_name = 'TweetResults.csv'\n",
    "TweetResults_df.to_csv(file_name, encoding='utf-8', index=False)\n"
   ]
  },
  {
   "cell_type": "code",
   "execution_count": 5,
   "metadata": {},
   "outputs": [
    {
     "data": {
      "text/html": [
       "<div>\n",
       "<style>\n",
       "    .dataframe thead tr:only-child th {\n",
       "        text-align: right;\n",
       "    }\n",
       "\n",
       "    .dataframe thead th {\n",
       "        text-align: left;\n",
       "    }\n",
       "\n",
       "    .dataframe tbody tr th {\n",
       "        vertical-align: top;\n",
       "    }\n",
       "</style>\n",
       "<table border=\"1\" class=\"dataframe\">\n",
       "  <thead>\n",
       "    <tr style=\"text-align: right;\">\n",
       "      <th></th>\n",
       "      <th>Compound Score</th>\n",
       "      <th>Negative Score</th>\n",
       "      <th>Neutral Score</th>\n",
       "      <th>News Source</th>\n",
       "      <th>Positive Score</th>\n",
       "      <th>Tweets Ago</th>\n",
       "    </tr>\n",
       "  </thead>\n",
       "  <tbody>\n",
       "    <tr>\n",
       "      <th>0</th>\n",
       "      <td>-0.4404</td>\n",
       "      <td>0.153</td>\n",
       "      <td>0.847</td>\n",
       "      <td>@CNN</td>\n",
       "      <td>0.000</td>\n",
       "      <td>0</td>\n",
       "    </tr>\n",
       "    <tr>\n",
       "      <th>1</th>\n",
       "      <td>-0.7184</td>\n",
       "      <td>0.240</td>\n",
       "      <td>0.760</td>\n",
       "      <td>@CNN</td>\n",
       "      <td>0.000</td>\n",
       "      <td>1</td>\n",
       "    </tr>\n",
       "    <tr>\n",
       "      <th>2</th>\n",
       "      <td>0.5267</td>\n",
       "      <td>0.000</td>\n",
       "      <td>0.848</td>\n",
       "      <td>@CNN</td>\n",
       "      <td>0.152</td>\n",
       "      <td>2</td>\n",
       "    </tr>\n",
       "    <tr>\n",
       "      <th>3</th>\n",
       "      <td>-0.4939</td>\n",
       "      <td>0.198</td>\n",
       "      <td>0.802</td>\n",
       "      <td>@CNN</td>\n",
       "      <td>0.000</td>\n",
       "      <td>3</td>\n",
       "    </tr>\n",
       "    <tr>\n",
       "      <th>4</th>\n",
       "      <td>0.1779</td>\n",
       "      <td>0.000</td>\n",
       "      <td>0.876</td>\n",
       "      <td>@CNN</td>\n",
       "      <td>0.124</td>\n",
       "      <td>4</td>\n",
       "    </tr>\n",
       "  </tbody>\n",
       "</table>\n",
       "</div>"
      ],
      "text/plain": [
       "   Compound Score  Negative Score  Neutral Score News Source  Positive Score  \\\n",
       "0         -0.4404           0.153          0.847        @CNN           0.000   \n",
       "1         -0.7184           0.240          0.760        @CNN           0.000   \n",
       "2          0.5267           0.000          0.848        @CNN           0.152   \n",
       "3         -0.4939           0.198          0.802        @CNN           0.000   \n",
       "4          0.1779           0.000          0.876        @CNN           0.124   \n",
       "\n",
       "   Tweets Ago  \n",
       "0           0  \n",
       "1           1  \n",
       "2           2  \n",
       "3           3  \n",
       "4           4  "
      ]
     },
     "execution_count": 5,
     "metadata": {},
     "output_type": "execute_result"
    }
   ],
   "source": [
    "#The first plot will be and/or feature the following:\n",
    "  # Be a scatter plot of sentiments of the last 100 tweets sent out by each news organization, ranging from -1.0 to 1.0, where a score of 0 expresses a neutral sentiment, -1 the most negative sentiment possible, and +1 the most positive sentiment possible.\n",
    "  # Each plot point will reflect the compound sentiment of a tweet.\n",
    "  # Sort each plot point by its relative timestamp.\n",
    "\n",
    "# Time for a chart!\n",
    "CNN_Tweets_df = TweetResults_df.loc[TweetResults_df['News Source'] == '@CNN',:]\n",
    "BBC_Tweets_df = TweetResults_df.loc[TweetResults_df['News Source'] == '@BBCNews',:]\n",
    "CBS_Tweets_df = TweetResults_df.loc[TweetResults_df['News Source'] == '@CBSNews',:]\n",
    "Fox_Tweets_df = TweetResults_df.loc[TweetResults_df['News Source'] == '@FoxNews',:]\n",
    "NYTimes_Tweets_df = TweetResults_df.loc[TweetResults_df['News Source'] == '@nytimes',:]\n",
    "\n",
    "CNN_Tweets_df.head()"
   ]
  },
  {
   "cell_type": "code",
   "execution_count": 15,
   "metadata": {},
   "outputs": [
    {
     "name": "stdout",
     "output_type": "stream",
     "text": [
      "03/20/2018\n"
     ]
    }
   ],
   "source": [
    "# set the date\n",
    "currentdate = dt.datetime.today().strftime(\"%m/%d/%Y\")\n",
    "print(currentdate)"
   ]
  },
  {
   "cell_type": "code",
   "execution_count": 16,
   "metadata": {},
   "outputs": [
    {
     "data": {
      "image/png": "[encoded data removed]",
      "text/plain": [
       "<matplotlib.figure.Figure at 0x1dd083b1a20>"
      ]
     },
     "metadata": {},
     "output_type": "display_data"
    }
   ],
   "source": [
    "# Scatter Plot: Sentiment Analysis of CNN Tweets\n",
    "y_axis = CNN_Tweets_df['Compound Score']\n",
    "x_axis = CNN_Tweets_df['Tweets Ago']\n",
    "CNNAnalysis = plt.scatter(x_axis, y_axis, marker=\"o\", facecolors= 'blue', edgecolors='black',\n",
    "            s=40, alpha=0.40)\n",
    "\n",
    "# Scatter Plot: Sentiment Analysis of MSNBC Tweets\n",
    "y_axis = BBC_Tweets_df['Compound Score']\n",
    "x_axis = BBC_Tweets_df['Tweets Ago']\n",
    "BBCAnalysis = plt.scatter(x_axis, y_axis, marker=\"o\", facecolors= 'yellow', edgecolors='black',\n",
    "            s=40, alpha=0.40)\n",
    "\n",
    "# Scatter Plot: Sentiment Analysis of Daily Mail Tweets\n",
    "y_axis = CBS_Tweets_df['Compound Score']\n",
    "x_axis = CBS_Tweets_df['Tweets Ago']\n",
    "CBSAnalysis = plt.scatter(x_axis, y_axis, marker=\"o\", facecolors= 'green', edgecolors='black',\n",
    "            s=40, alpha=0.40)\n",
    "\n",
    "# Scatter Plot: Sentiment Analysis of Chicago Tribune Tweets\n",
    "y_axis = Fox_Tweets_df['Compound Score']\n",
    "x_axis = Fox_Tweets_df['Tweets Ago']\n",
    "FoxAnalysis = plt.scatter(x_axis, y_axis, marker=\"o\", facecolors= 'coral', edgecolors='black',\n",
    "            s=40, alpha=0.40)\n",
    "\n",
    "# Scatter Plot: Sentiment Analysis of New York Times Tweets\n",
    "y_axis = NYTimes_Tweets_df['Compound Score']\n",
    "x_axis = NYTimes_Tweets_df['Tweets Ago']\n",
    "NYTimesAnalysis = plt.scatter(x_axis, y_axis, marker=\"o\", facecolors= 'black', edgecolors='black',\n",
    "            s=40, alpha=0.40)\n",
    "\n",
    "plt.xlim(105, -5)\n",
    "plt.ylim(-1, 1)\n",
    "plt.title('Sentiment Analysis of Media Tweets (' + currentdate + ')')\n",
    "plt.xlabel('Tweets Ago')\n",
    "plt.ylabel('Tweet Polarity')\n",
    "plt.legend([CNNAnalysis,\n",
    "            BBCAnalysis,\n",
    "            CBSAnalysis,\n",
    "            FoxAnalysis,\n",
    "            NYTimesAnalysis],\n",
    "            ['CNN', 'BBC', 'CBS', 'Fox', 'NY Times'],\n",
    "            loc = 9, bbox_to_anchor=(1.2,0.95), title = 'Media Sources')\n",
    "plt.savefig('SentimentAnalysis.png')\n"
   ]
  },
  {
   "cell_type": "code",
   "execution_count": 26,
   "metadata": {},
   "outputs": [
    {
     "data": {
      "text/html": [
       "<div>\n",
       "<style>\n",
       "    .dataframe thead tr:only-child th {\n",
       "        text-align: right;\n",
       "    }\n",
       "\n",
       "    .dataframe thead th {\n",
       "        text-align: left;\n",
       "    }\n",
       "\n",
       "    .dataframe tbody tr th {\n",
       "        vertical-align: top;\n",
       "    }\n",
       "</style>\n",
       "<table border=\"1\" class=\"dataframe\">\n",
       "  <thead>\n",
       "    <tr style=\"text-align: right;\">\n",
       "      <th></th>\n",
       "      <th>Avg Compound Score</th>\n",
       "      <th>Color</th>\n",
       "      <th>News Source</th>\n",
       "    </tr>\n",
       "  </thead>\n",
       "  <tbody>\n",
       "    <tr>\n",
       "      <th>0</th>\n",
       "      <td>-0.077059</td>\n",
       "      <td>blue</td>\n",
       "      <td>CNN</td>\n",
       "    </tr>\n",
       "    <tr>\n",
       "      <th>1</th>\n",
       "      <td>-0.148401</td>\n",
       "      <td>yellow</td>\n",
       "      <td>BBC</td>\n",
       "    </tr>\n",
       "    <tr>\n",
       "      <th>2</th>\n",
       "      <td>-0.141422</td>\n",
       "      <td>green</td>\n",
       "      <td>CBS</td>\n",
       "    </tr>\n",
       "    <tr>\n",
       "      <th>3</th>\n",
       "      <td>-0.088686</td>\n",
       "      <td>coral</td>\n",
       "      <td>Fox</td>\n",
       "    </tr>\n",
       "    <tr>\n",
       "      <th>4</th>\n",
       "      <td>0.033761</td>\n",
       "      <td>black</td>\n",
       "      <td>NYT</td>\n",
       "    </tr>\n",
       "  </tbody>\n",
       "</table>\n",
       "</div>"
      ],
      "text/plain": [
       "   Avg Compound Score   Color News Source\n",
       "0           -0.077059    blue         CNN\n",
       "1           -0.148401  yellow         BBC\n",
       "2           -0.141422   green         CBS\n",
       "3           -0.088686   coral         Fox\n",
       "4            0.033761   black         NYT"
      ]
     },
     "execution_count": 26,
     "metadata": {},
     "output_type": "execute_result"
    }
   ],
   "source": [
    "# The second plot will be a bar plot visualizing the overall sentiments of the last 100 tweets from\n",
    "# each organization. For this plot, you will again aggregate the compound sentiments analyzed by VADER.\n",
    "\n",
    "# Get the summarized Compound Score\n",
    "CNN_Avg_CompoundScore = (TweetResults_df.loc[TweetResults_df['News Source'] == '@CNN', 'Compound Score'].sum() / PageLoops)\n",
    "BBC_Avg_CompoundScore = (TweetResults_df.loc[TweetResults_df['News Source'] == '@BBCNews', 'Compound Score'].sum() / PageLoops)\n",
    "CBS_Avg_CompoundScore = (TweetResults_df.loc[TweetResults_df['News Source'] == '@CBSNews', 'Compound Score'].sum() / PageLoops)\n",
    "Fox_Avg_CompoundScore = (TweetResults_df.loc[TweetResults_df['News Source'] == '@FoxNews', 'Compound Score'].sum() / PageLoops)\n",
    "NYTimes_Avg_CompoundScore = (TweetResults_df.loc[TweetResults_df['News Source'] == '@nytimes', 'Compound Score'].sum() / PageLoops)\n",
    "\n",
    "#Build a dataframe for the results\n",
    "OverallMediaSentiment_df = pd.DataFrame({'News Source': ['CNN', 'BBC','CBS', 'Fox', 'NYT'],\n",
    "                                         'Avg Compound Score': [CNN_Avg_CompoundScore,\n",
    "                                         BBC_Avg_CompoundScore, CBS_Avg_CompoundScore,\n",
    "                                         Fox_Avg_CompoundScore, NYTimes_Avg_CompoundScore],\n",
    "                                         'Color':['blue', 'yellow', 'green', 'coral', 'black']\n",
    "                                        })\n",
    "OverallMediaSentiment_df.head()"
   ]
  },
  {
   "cell_type": "code",
   "execution_count": 51,
   "metadata": {},
   "outputs": [
    {
     "name": "stdout",
     "output_type": "stream",
     "text": [
      "Rectangle(xy=(1.5, 0), width=1, height=-0.077059, angle=0)\n"
     ]
    },
    {
     "data": {
      "image/png": "[encoded data removed]",
      "text/plain": [
       "<matplotlib.figure.Figure at 0x1dd07f56c88>"
      ]
     },
     "metadata": {},
     "output_type": "display_data"
    }
   ],
   "source": [
    "# New Bar Chart\n",
    "width = 1  # the width of the bars\n",
    "fig = plt.figure(figsize = (7,5))\n",
    "ax = fig.add_subplot(1,1,1)\n",
    "rects1 = ax.bar(OverallMediaSentiment_df['News Source'], OverallMediaSentiment_df['Avg Compound Score'],\n",
    "                width, color=OverallMediaSentiment_df['Color'], edgecolor = 'black')\n",
    "\n",
    "# Add some text for labels, title and custom x-axis tick labels, etc.\n",
    "ax.set_ylabel('Tweet Polarity')\n",
    "ax.set_title('Overall Media Sentiment based on Twitter (' + currentdate + ')')\n",
    "ax.legend()\n",
    "\n",
    "def autolabel(rects):\n",
    "    #\"\"\"\n",
    "    #Attach a text label above each bar displaying its height\n",
    "    #\"\"\"\n",
    "    for rect in rects:\n",
    "        height = rect.get_height()\n",
    "        ax.text(rect.get_x() + rect.get_width()/2., 1.05*height,\n",
    "                \"{:10.4f}\".format(height),\n",
    "                ha='center', va='center')\n",
    "        #xloc = 0.98*width\n",
    "        yloc = 0.5*height\n",
    "        # White on magenta\n",
    "        clr = 'white'\n",
    "        align = 'center'\n",
    "\n",
    "autolabel(rects1)\n",
    "print(rects1[0])\n",
    "#\n",
    "plt.show()"
   ]
  },
  {
   "cell_type": "code",
   "execution_count": null,
   "metadata": {
    "collapsed": true
   },
   "outputs": [],
   "source": [
    "\n",
    "def autolabel(rects, xpos='center'):\n",
    "    \"\"\"\n",
    "    Attach a text label above each bar in *rects*, displaying its height.\n",
    "\n",
    "    *xpos* indicates which side to place the text w.r.t. the center of\n",
    "    the bar. It can be one of the following {'center', 'right', 'left'}.\n",
    "    \"\"\"\n",
    "\n",
    "    xpos = xpos.lower()  # normalize the case of the parameter\n",
    "    ha = {'center': 'center', 'right': 'left', 'left': 'right'}\n",
    "    offset = {'center': 0.5, 'right': 0.57, 'left': 0.43}  # x_txt = x + w*off\n",
    "\n",
    "    for rect in rects:\n",
    "        height = rect.get_height()\n",
    "        ax.text(rect.get_x() + rect.get_width()*offset[xpos], 1.01*height,\n",
    "                '{}'.format(height), ha=ha[xpos], va='bottom')\n",
    "\n",
    "\n",
    "autolabel(rects1, \"left\")\n",
    "autolabel(rects2, \"right\")\n",
    "\n",
    "\n",
    "plt.show()"
   ]
  },
  {
   "cell_type": "code",
   "execution_count": 11,
   "metadata": {},
   "outputs": [
    {
     "data": {
      "image/png": "[encoded data removed]",
      "text/plain": [
       "<matplotlib.figure.Figure at 0x1dd07ec6d30>"
      ]
     },
     "metadata": {},
     "output_type": "display_data"
    }
   ],
   "source": [
    "# Bar chart\n",
    "Bar_y_axis = OverallMediaSentiment_df['Avg Compound Score']\n",
    "Bar_x_axis = OverallMediaSentiment_df['News Source']\n",
    "\n",
    "# Tell matplotlib that we will be making a bar chart\n",
    "# Users is our y axis and x_axis is, of course, our x axis\n",
    "# We apply align=\"edge\" to ensure our bars line up with our tick marks\n",
    "plt.bar(Bar_x_axis, Bar_y_axis, color=OverallMediaSentiment_df['Color'], alpha=0.5, align=\"center\")\n",
    "\n",
    "plt.ylim(-0.23, 0.20)\n",
    "plt.title('Overall Media Sentiment based on Twitter (' + currentdate + ')')\n",
    "plt.ylabel('Tweet Polarity')\n",
    "\n",
    "\n",
    "\n",
    "plt.savefig('OverallMediaSentiment.png')\n"
   ]
  },
  {
   "cell_type": "code",
   "execution_count": null,
   "metadata": {
    "collapsed": true
   },
   "outputs": [],
   "source": []
  }
 ],
 "metadata": {
  "kernelspec": {
   "display_name": "Python 3",
   "language": "python",
   "name": "python3"
  },
  "language_info": {
   "codemirror_mode": {
    "name": "ipython",
    "version": 3
   },
   "file_extension": ".py",
   "mimetype": "text/x-python",
   "name": "python",
   "nbconvert_exporter": "python",
   "pygments_lexer": "ipython3",
   "version": "3.6.3"
  }
 },
 "nbformat": 4,
 "nbformat_minor": 2
}
